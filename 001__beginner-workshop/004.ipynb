{
 "cells": [
  {
   "cell_type": "code",
   "execution_count": null,
   "metadata": {},
   "outputs": [],
   "source": [
    "# always check your python version\n",
    "!python --version"
   ]
  },
  {
   "cell_type": "code",
   "execution_count": null,
   "metadata": {},
   "outputs": [],
   "source": [
    "# AWS SDK for Python, -q flag is for quiet\n",
    "%pip install -q boto3"
   ]
  },
  {
   "cell_type": "code",
   "execution_count": 3,
   "metadata": {},
   "outputs": [],
   "source": [
    "import boto3\n",
    "bedrock_client = boto3.client('bedrock-runtime')"
   ]
  },
  {
   "cell_type": "code",
   "execution_count": 4,
   "metadata": {},
   "outputs": [],
   "source": [
    "import random\n",
    "from datetime import datetime, timedelta, timezone\n",
    "from tools import get_date_time, get_weather, get_historical_fact, weather_tools\n",
    "from helper import load_text_file"
   ]
  },
  {
   "cell_type": "code",
   "execution_count": 18,
   "metadata": {},
   "outputs": [],
   "source": [
    "# https://gist.github.com/labeveryday/1ce04d4169a638a4e267384100affad5\n",
    "class ToolAgent:\n",
    "  def __init__(self):\n",
    "    self.client = boto3.client('bedrock-runtime')\n",
    "    self.messages = [] # load with initial messages  \n",
    "    self.model_id = 'anthropic.claude-3-5-sonnet-20240620-v1:0'\n",
    "  def chat(self,text):\n",
    "    # Observersation\n",
    "    resp = self.converse(text)\n",
    "    self.messages.append(resp)\n",
    "    # Action\n",
    "    messages = self.process_action(resp)\n",
    "    return messages # [TODO]\n",
    "  def converse(self,text=''):\n",
    "    system_prompt_text = load_text_file(\"prompts/weather.txt\")    \n",
    "    system_prompt = [{\"text\": system_prompt_text}]      \n",
    "    self.messages.append({\"role\": \"user\", \"content\": [{\"text\": text}]})\n",
    "    # https://boto3.amazonaws.com/v1/documentation/api/latest/reference/services/bedrock-runtime/client/converse.html\n",
    "    resp = self.client.converse(\n",
    "      modelId=self.model_id,\n",
    "      messages=self.messages,\n",
    "      system=system_prompt,\n",
    "      inferenceConfig={\n",
    "        \"temperature\": 0.5\n",
    "      },        \n",
    "      toolConfig={\n",
    "        \"tools\": weather_tools,\n",
    "        \"toolChoice\": {\"auto\": {}}\n",
    "      }\n",
    "    )\n",
    "    return resp['output']['message']\n",
    "  def process_action(self,ai_response):\n",
    "    print(\"process_action:ai_response\")\n",
    "    print(ai_response)\n",
    "    for content in ai_response['content']:\n",
    "      if 'text' in content:\n",
    "        return f\"AI: {content['text']}\"\n",
    "      elif 'toolUse' in content:\n",
    "        tool_use = content['toolUse']\n",
    "        tool_name = tool_use['name']\n",
    "        return f\"# Using the {tool_use['name']} tool...\"\n",
    "        \n",
    "        tool_functions = {\n",
    "          'get_date_time': get_date_time,\n",
    "          'get_weather': lambda: get_weather(tool_use['input']['location']),\n",
    "          'get_historical_fact': get_historical_fact\n",
    "        }\n",
    "          \n",
    "        if tool_name in tool_functions:\n",
    "          try:\n",
    "            tool_result = tool_functions[tool_name]()\n",
    "            self.messages.append({\n",
    "              \"role\": \"user\",\n",
    "              \"content\": [{\n",
    "                \"toolResult\": {\n",
    "                  \"toolUseId\": tool_use['toolUseId'],\n",
    "                  \"content\": [{\"json\": tool_result}],\n",
    "                  \"status\": \"success\"\n",
    "                }\n",
    "              }]\n",
    "            })\n",
    "            result = self.converse()\n",
    "            self.messages.append(result)\n",
    "            return f\"AI: {result['content'][0]['text']}\"\n",
    "          except Exception as e:\n",
    "            return f\"Error using {tool_name} tool: {str(e)}\"\n"
   ]
  },
  {
   "cell_type": "code",
   "execution_count": null,
   "metadata": {},
   "outputs": [],
   "source": [
    "agent = ToolAgent()\n",
    "print(agent.chat(\"What is the weather today in Toronto Ontario Canada?\")) # weather tool"
   ]
  },
  {
   "cell_type": "code",
   "execution_count": null,
   "metadata": {},
   "outputs": [],
   "source": [
    "print(agent.chat(\"What is the weather today in Toronto Ontario Canada?\")) # it should error out eg. TooManyRequest or You need to further the conversation"
   ]
  },
  {
   "cell_type": "code",
   "execution_count": null,
   "metadata": {},
   "outputs": [],
   "source": [
    "agent = ToolAgent()\n",
    "# Update the facts with a fact and date with what happen on this day.\n",
    "print(agent.chat(\"What historical thing happend on this date?\")) "
   ]
  },
  {
   "cell_type": "code",
   "execution_count": null,
   "metadata": {},
   "outputs": [],
   "source": [
    "agent = ToolAgent()\n",
    "print(agent.chat(\"What is the time?\")) "
   ]
  }
 ],
 "metadata": {
  "kernelspec": {
   "display_name": "Python 3 (ipykernel)",
   "language": "python",
   "name": "python3"
  },
  "language_info": {
   "codemirror_mode": {
    "name": "ipython",
    "version": 3
   },
   "file_extension": ".py",
   "mimetype": "text/x-python",
   "name": "python",
   "nbconvert_exporter": "python",
   "pygments_lexer": "ipython3",
   "version": "3.11.9"
  }
 },
 "nbformat": 4,
 "nbformat_minor": 4
}
