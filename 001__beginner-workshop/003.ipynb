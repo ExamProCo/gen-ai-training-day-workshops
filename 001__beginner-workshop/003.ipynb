{
 "cells": [
  {
   "cell_type": "code",
   "execution_count": null,
   "metadata": {},
   "outputs": [],
   "source": [
    "# always check your python version\n",
    "!python --version"
   ]
  },
  {
   "cell_type": "code",
   "execution_count": null,
   "metadata": {},
   "outputs": [],
   "source": [
    "# AWS SDK for Python, -q flag is for quiet\n",
    "%pip install -q boto3"
   ]
  },
  {
   "cell_type": "code",
   "execution_count": null,
   "metadata": {},
   "outputs": [],
   "source": [
    "# always check your boto3 version\n",
    "%pip show boto3"
   ]
  },
  {
   "cell_type": "code",
   "execution_count": null,
   "metadata": {},
   "outputs": [],
   "source": [
    "!sudo apt-get install sqlite3 -y"
   ]
  },
  {
   "cell_type": "code",
   "execution_count": null,
   "metadata": {},
   "outputs": [],
   "source": [
    "!sqlite3 --version"
   ]
  },
  {
   "cell_type": "code",
   "execution_count": 5,
   "metadata": {},
   "outputs": [],
   "source": [
    "from helper import load_text_file\n",
    "import json\n",
    "import boto3\n",
    "client = boto3.client('bedrock-runtime')"
   ]
  },
  {
   "cell_type": "code",
   "execution_count": null,
   "metadata": {},
   "outputs": [],
   "source": [
    "# Studio Workshop does not have permission for Command+R\n",
    "# This is left here for example\n",
    "#def converse(session_id, input):\n",
    "#  history = Chat.read(session_id)  \n",
    "#\n",
    "#  system_prompt = load_text_file(\"prompts/jp-teacher.txt\")\n",
    "#  model_id = 'cohere.command-r-v1:0'\n",
    "#  prompt = f\"{system_prompt}\\n{history}\\nUser: ${input}\\nAssistant:\"\n",
    "#  resp = client.invoke_model(\n",
    "#      modelId=model_id,\n",
    "#      contentType='application/json',\n",
    "#      accept='application/json',\n",
    "#      body=json.dumps({\n",
    "#        \"message\": prompt,\n",
    "#        \"max_tokens\": 200,\n",
    "#        \"temperature\": 1.0\n",
    "#      })\n",
    "#  )\n",
    "#  body = json.loads(resp.get(\"body\").read())\n",
    "#  llm_response = body['text']\n",
    "#\n",
    "#  updated_history = f\"{history}\\n{llm_response}\"\n",
    "#  Chat.write(session_id,updated_history)\n",
    "#\n",
    "# return body"
   ]
  },
  {
   "cell_type": "code",
   "execution_count": null,
   "metadata": {},
   "outputs": [],
   "source": [
    "model_id = 'amazon.titan-text-express-v1'\n",
    "\n",
    "# Differen models are optimized for differents tasks.\n",
    "# Titan Express is optimized for english which is why it not replying in the expected way.\n",
    "system_prompt = load_text_file(\"prompts/jp-teacher.txt\")\n",
    "history = \"\"\"\n",
    "User: I want to eat at Kyoto Katsugyu in Toronto\n",
    "Bot: That sounds like a great idea. Kyoto Katsugyu is a Japanese restaurant located in Toronto, Canada.\n",
    "User: I wan't asking a question, that was the english text I wanted to translate to Japanese.\n",
    "Bot: I apologize for the confusion. To clarify, would you like me to translate the English text into Japanese?\n",
    "User: Where are my japanese clues?\n",
    "\"\"\"\n",
    "\n",
    "prompt = f\"{system_prompt}\\n{history}\\nBot:\"\n",
    "\n",
    "resp = client.invoke_model(\n",
    "  modelId=model_id,\n",
    "  contentType='application/json',\n",
    "  accept='application/json',\n",
    "  body=json.dumps({\n",
    "    \"inputText\": prompt\n",
    "  })\n",
    ")\n",
    "print(\"Usage ====== \\n\")\n",
    "print(\"Input Tokens: \"+ resp['ResponseMetadata']['HTTPHeaders']['x-amzn-bedrock-input-token-count'])\n",
    "print(\"Output Tokens: \" + resp['ResponseMetadata']['HTTPHeaders']['x-amzn-bedrock-output-token-count'])\n",
    "print(\"\\nResponse ====== \\n\")\n",
    "body = json.loads(resp.get(\"body\").read())\n",
    "print(body['results'][0]['outputText'])"
   ]
  },
  {
   "cell_type": "code",
   "execution_count": null,
   "metadata": {},
   "outputs": [],
   "source": [
    "# Note: We will update our prompt document to tell is not to give us the direct answer.\n",
    "messages = [\n",
    "  {\"role\": \"user\", \"content\": [{\"text\": \"I want to eat at Kyoto Katsugyu in Toronto\"}]},\n",
    "  {'role': 'assistant', 'content': [{'text': 'クルー:\\n1) 私 (わたし) は トロントの 京都カツ牛 (きょうとかつぎゅう) で 食べたい (たべたい) と言っています。\\n\\n2) 京都カツ牛 は Toronto にある日本食レストランの名前です。\\n\\n3) 食べる (たべる) は「to eat」の意味の動詞の辞書形です。\\n\\nヒント:\\n- 主語は私 (I)\\n- トロントの〜で (in Toronto at〜) \\n- レストラン名が出てきます\\n- 動詞は「たい」形で欲求を表しています'}]},\n",
    "  {\"role\": \"user\", \"content\": [{\"text\": \"can you just tell me the translation?\"}]}\n",
    "]\n",
    "system_prompt_text = load_text_file(\"prompts/jp-teacher.txt\")\n",
    "system_prompt = [{\"text\": system_prompt_text}]\n",
    "model_id = 'anthropic.claude-3-sonnet-20240229-v1:0'\n",
    "\n",
    "# https://boto3.amazonaws.com/v1/documentation/api/latest/reference/services/bedrock-runtime/client/converse.html\n",
    "resp = client.converse(\n",
    "  modelId=model_id,\n",
    "  messages=messages,\n",
    "  system=system_prompt\n",
    ")\n",
    "print(\"Usage ====== \\n\")\n",
    "print(resp['usage'])\n",
    "print(\"\\nResponse ====== \\n\")\n",
    "text = resp['output']['message']['content'][0]['text']  \n",
    "print(text)\n",
    "print(\"\\nMessage Object ====== \\n\")\n",
    "msg = resp['output']['message']\n",
    "print(msg)"
   ]
  },
  {
   "cell_type": "code",
   "execution_count": 29,
   "metadata": {},
   "outputs": [],
   "source": [
    "from chat_history import Chat\n",
    "def converse(session_id, input):\n",
    "  history = Chat.read(session_id)  \n",
    "\n",
    "  system_prompt = load_text_file(\"prompts/jp-teacher.txt\")\n",
    "  model_id = 'amazon.titan-text-express-v1'\n",
    "\n",
    "  prompt = f\"{system_prompt}\\n{history}\\nUser: ${input}\\nBot:\"\n",
    "  resp = client.invoke_model(\n",
    "      modelId=model_id,\n",
    "      contentType='application/json',\n",
    "      accept='application/json',\n",
    "      body=json.dumps({\n",
    "        \"inputText\": prompt\n",
    "      })\n",
    "  )\n",
    "  body = json.loads(resp.get(\"body\").read())\n",
    "  llm_response = body['results'][0]['outputText']\n",
    "\n",
    "  updated_history = f\"{history}\\n{llm_response}\"\n",
    "  Chat.write(session_id,updated_history)\n",
    "\n",
    "  return body"
   ]
  },
  {
   "cell_type": "code",
   "execution_count": null,
   "metadata": {},
   "outputs": [],
   "source": [
    "print(converse(\"food\",\"Let's go eat food at the resturant Kyoto Katsugyu in Toronto.\"))"
   ]
  },
  {
   "cell_type": "code",
   "execution_count": null,
   "metadata": {},
   "outputs": [],
   "source": [
    "print(converse(\"food\",\"How do I conjugate taberu?\"))"
   ]
  },
  {
   "cell_type": "code",
   "execution_count": 32,
   "metadata": {},
   "outputs": [],
   "source": [
    "class JpAgent:\n",
    "  def __init__(self):\n",
    "    self.client = boto3.client('bedrock-runtime')\n",
    "    self.messages = [\n",
    "    \n",
    "    ] # load with initial messages\n",
    "  def chat(self, text):\n",
    "    self.messages.append({\"role\": \"user\", \"content\": [{\"text\": text}]})\n",
    "    system_prompt_text = load_text_file(\"prompts/jp-teacher.txt\")\n",
    "    system_prompt = [{\"text\": system_prompt_text}]\n",
    "    model_id = 'anthropic.claude-3-sonnet-20240229-v1:0'\n",
    "    # https://boto3.amazonaws.com/v1/documentation/api/latest/reference/services/bedrock-runtime/client/converse.html\n",
    "    resp = self.client.converse(\n",
    "        modelId=model_id,\n",
    "        messages=self.messages,\n",
    "        system=system_prompt\n",
    "    )\n",
    "    text = resp['output']['message']['content'][0]['text']      \n",
    "    self.messages.append({\"role\": \"assistant\", \"content\": [{\"text\": text}]})\n",
    "    return text\n",
    "agent = JpAgent()"
   ]
  },
  {
   "cell_type": "code",
   "execution_count": null,
   "metadata": {},
   "outputs": [],
   "source": [
    "print(agent.chat(\"Let's go eat food at the resturant Kyoto Katsugyu in Toronto.\"))"
   ]
  },
  {
   "cell_type": "code",
   "execution_count": null,
   "metadata": {},
   "outputs": [],
   "source": [
    "print(agent.chat(\"How do I conjugate taberu?\"))"
   ]
  },
  {
   "cell_type": "code",
   "execution_count": 37,
   "metadata": {},
   "outputs": [],
   "source": [
    "class JpAgentStream:\n",
    "  def __init__(self):\n",
    "    self.client = boto3.client('bedrock-runtime')\n",
    "    self.messages = [] # load with initial messages\n",
    "  def chat(self, text):\n",
    "    self.messages.append({\"role\": \"user\", \"content\": [{\"text\": text}]})\n",
    "    system_prompt_text = load_text_file(\"prompts/jp-teacher.txt\")\n",
    "    system_prompt = [{\"text\": system_prompt_text}]\n",
    "    model_id = 'anthropic.claude-3-sonnet-20240229-v1:0'\n",
    "    # https://boto3.amazonaws.com/v1/documentation/api/latest/reference/services/bedrock-runtime/client/converse.html\n",
    "    resp = self.client.converse_stream(\n",
    "        modelId=model_id,\n",
    "        messages=self.messages,\n",
    "        system=system_prompt\n",
    "    )\n",
    "    text = self.stream(resp)\n",
    "    self.messages.append({\"role\": \"assistant\", \"content\": [{\"text\": text}]})\n",
    "    return text\n",
    "  def stream(self,resp):  \n",
    "    full_response = \"\"\n",
    "    for event in resp.get('stream'):\n",
    "        if 'messageStart' in event:\n",
    "            print(\"Response started:\", event['messageStart']['role'])\n",
    "        elif 'contentBlockDelta' in event:\n",
    "            chunk = event['contentBlockDelta']['delta'].get('text', '')\n",
    "            full_response += chunk\n",
    "            print(chunk, end='', flush=True)  # Print chunks as they arrive\n",
    "        elif 'messageStop' in event:\n",
    "            print(\"\\n\\nResponse completed. Stop reason:\", event['messageStop']['stopReason'])\n",
    "        elif 'metadata' in event:\n",
    "            print(\"\\nMetadata:\", json.dumps(event['metadata'], indent=2))  \n",
    "    return full_response          \n",
    "stream_agent = JpAgentStream()"
   ]
  },
  {
   "cell_type": "code",
   "execution_count": null,
   "metadata": {},
   "outputs": [],
   "source": [
    "stream_agent.chat(\"How do I conjugate taberu?\")"
   ]
  }
 ],
 "metadata": {
  "kernelspec": {
   "display_name": "Python 3 (ipykernel)",
   "language": "python",
   "name": "python3"
  },
  "language_info": {
   "codemirror_mode": {
    "name": "ipython",
    "version": 3
   },
   "file_extension": ".py",
   "mimetype": "text/x-python",
   "name": "python",
   "nbconvert_exporter": "python",
   "pygments_lexer": "ipython3",
   "version": "3.11.9"
  }
 },
 "nbformat": 4,
 "nbformat_minor": 4
}
