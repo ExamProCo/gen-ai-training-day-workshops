{
 "cells": [
  {
   "cell_type": "code",
   "execution_count": 1,
   "metadata": {},
   "outputs": [
    {
     "name": "stdout",
     "output_type": "stream",
     "text": [
      "Python 3.11.9\n"
     ]
    }
   ],
   "source": [
    "# always check your python version\n",
    "!python --version"
   ]
  },
  {
   "cell_type": "code",
   "execution_count": 2,
   "metadata": {},
   "outputs": [
    {
     "name": "stdout",
     "output_type": "stream",
     "text": [
      "Note: you may need to restart the kernel to use updated packages.\n"
     ]
    }
   ],
   "source": [
    "# AWS SDK for Python, -q flag is for quiet\n",
    "%pip install -q boto3"
   ]
  },
  {
   "cell_type": "code",
   "execution_count": null,
   "metadata": {},
   "outputs": [],
   "source": [
    "# always check your boto3 version\n",
    "%pip show boto3"
   ]
  },
  {
   "cell_type": "code",
   "execution_count": 3,
   "metadata": {},
   "outputs": [
    {
     "name": "stdout",
     "output_type": "stream",
     "text": [
      "Reading package lists... Done\n",
      "Building dependency tree... Done\n",
      "Reading state information... Done\n",
      "The following additional packages will be installed:\n",
      "  libreadline8 libsqlite3-0 readline-common\n",
      "Suggested packages:\n",
      "  readline-doc sqlite3-doc\n",
      "The following NEW packages will be installed:\n",
      "  libreadline8 libsqlite3-0 readline-common sqlite3\n",
      "0 upgraded, 4 newly installed, 0 to remove and 0 not upgraded.\n",
      "Need to get 1617 kB of archives.\n",
      "After this operation, 4067 kB of additional disk space will be used.\n",
      "Get:1 http://archive.ubuntu.com/ubuntu jammy/main amd64 readline-common all 8.1.2-1 [53.5 kB]\n",
      "Get:2 http://archive.ubuntu.com/ubuntu jammy/main amd64 libreadline8 amd64 8.1.2-1 [153 kB]\n",
      "Get:3 http://archive.ubuntu.com/ubuntu jammy-updates/main amd64 libsqlite3-0 amd64 3.37.2-2ubuntu0.3 [641 kB]\n",
      "Get:4 http://archive.ubuntu.com/ubuntu jammy-updates/main amd64 sqlite3 amd64 3.37.2-2ubuntu0.3 [768 kB]\n",
      "Fetched 1617 kB in 1s (1537 kB/s)\n",
      "debconf: delaying package configuration, since apt-utils is not installed\n",
      "Selecting previously unselected package readline-common.\n",
      "(Reading database ... 13790 files and directories currently installed.)\n",
      "Preparing to unpack .../readline-common_8.1.2-1_all.deb ...\n",
      "Unpacking readline-common (8.1.2-1) ...\n",
      "Selecting previously unselected package libreadline8:amd64.\n",
      "Preparing to unpack .../libreadline8_8.1.2-1_amd64.deb ...\n",
      "Unpacking libreadline8:amd64 (8.1.2-1) ...\n",
      "Selecting previously unselected package libsqlite3-0:amd64.\n",
      "Preparing to unpack .../libsqlite3-0_3.37.2-2ubuntu0.3_amd64.deb ...\n",
      "Unpacking libsqlite3-0:amd64 (3.37.2-2ubuntu0.3) ...\n",
      "Selecting previously unselected package sqlite3.\n",
      "Preparing to unpack .../sqlite3_3.37.2-2ubuntu0.3_amd64.deb ...\n",
      "Unpacking sqlite3 (3.37.2-2ubuntu0.3) ...\n",
      "Setting up libsqlite3-0:amd64 (3.37.2-2ubuntu0.3) ...\n",
      "Setting up readline-common (8.1.2-1) ...\n",
      "Setting up libreadline8:amd64 (8.1.2-1) ...\n",
      "Setting up sqlite3 (3.37.2-2ubuntu0.3) ...\n",
      "Processing triggers for libc-bin (2.35-0ubuntu3.8) ...\n"
     ]
    }
   ],
   "source": [
    "!sudo apt-get install sqlite3 -y"
   ]
  },
  {
   "cell_type": "code",
   "execution_count": 4,
   "metadata": {},
   "outputs": [
    {
     "name": "stdout",
     "output_type": "stream",
     "text": [
      "3.37.2 2022-01-06 13:25:41 872ba256cbf61d9290b571c0e6d82a20c224ca3ad82971edc46b29818d5dalt1\n"
     ]
    }
   ],
   "source": [
    "!sqlite3 --version"
   ]
  },
  {
   "cell_type": "code",
   "execution_count": 5,
   "metadata": {},
   "outputs": [],
   "source": [
    "from helper import load_text_file\n",
    "import json\n",
    "import boto3\n",
    "client = boto3.client('bedrock-runtime')"
   ]
  },
  {
   "cell_type": "code",
   "execution_count": null,
   "metadata": {},
   "outputs": [],
   "source": [
    "# Studio Workshop does not have permission for Command+R\n",
    "# This is left here for example\n",
    "#def converse(session_id, input):\n",
    "#  history = Chat.read(session_id)  \n",
    "#\n",
    "#  system_prompt = load_text_file(\"prompts/jp-teacher.txt\")\n",
    "#  model_id = 'cohere.command-r-v1:0'\n",
    "#  prompt = f\"{system_prompt}\\n{history}\\nUser: ${input}\\nAssistant:\"\n",
    "#  resp = client.invoke_model(\n",
    "#      modelId=model_id,\n",
    "#      contentType='application/json',\n",
    "#      accept='application/json',\n",
    "#      body=json.dumps({\n",
    "#        \"message\": prompt,\n",
    "#        \"max_tokens\": 200,\n",
    "#        \"temperature\": 1.0\n",
    "#      })\n",
    "#  )\n",
    "#  body = json.loads(resp.get(\"body\").read())\n",
    "#  llm_response = body['text']\n",
    "#\n",
    "#  updated_history = f\"{history}\\n{llm_response}\"\n",
    "#  Chat.write(session_id,updated_history)\n",
    "#\n",
    "# return body"
   ]
  },
  {
   "cell_type": "code",
   "execution_count": 28,
   "metadata": {},
   "outputs": [
    {
     "name": "stdout",
     "output_type": "stream",
     "text": [
      "Usage ====== \n",
      "\n",
      "Input Tokens: 213\n",
      "Output Tokens: 41\n",
      "\n",
      "Response ====== \n",
      "\n",
      " I apologize for the confusion. As a Japanese language teacher, my role is to assist you in learning Japanese. I will provide you with hints and clues to help you translate the English text into Japanese.\n"
     ]
    }
   ],
   "source": [
    "model_id = 'amazon.titan-text-express-v1'\n",
    "\n",
    "# Differen models are optimized for differents tasks.\n",
    "# Titan Express is optimized for english which is why it not replying in the expected way.\n",
    "system_prompt = load_text_file(\"prompts/jp-teacher.txt\")\n",
    "history = \"\"\"\n",
    "User: I want to eat at Kyoto Katsugyu in Toronto\n",
    "Bot: That sounds like a great idea. Kyoto Katsugyu is a Japanese restaurant located in Toronto, Canada.\n",
    "User: I wan't asking a question, that was the english text I wanted to translate to Japanese.\n",
    "Bot: I apologize for the confusion. To clarify, would you like me to translate the English text into Japanese?\n",
    "User: Where are my japanese clues?\n",
    "\"\"\"\n",
    "\n",
    "prompt = f\"{system_prompt}\\n{history}\\nBot:\"\n",
    "\n",
    "resp = client.invoke_model(\n",
    "  modelId=model_id,\n",
    "  contentType='application/json',\n",
    "  accept='application/json',\n",
    "  body=json.dumps({\n",
    "    \"inputText\": prompt\n",
    "  })\n",
    ")\n",
    "print(\"Usage ====== \\n\")\n",
    "print(\"Input Tokens: \"+ resp['ResponseMetadata']['HTTPHeaders']['x-amzn-bedrock-input-token-count'])\n",
    "print(\"Output Tokens: \" + resp['ResponseMetadata']['HTTPHeaders']['x-amzn-bedrock-output-token-count'])\n",
    "print(\"\\nResponse ====== \\n\")\n",
    "body = json.loads(resp.get(\"body\").read())\n",
    "print(body['results'][0]['outputText'])"
   ]
  },
  {
   "cell_type": "code",
   "execution_count": 21,
   "metadata": {},
   "outputs": [
    {
     "name": "stdout",
     "output_type": "stream",
     "text": [
      "Usage ====== \n",
      "\n",
      "{'inputTokens': 342, 'outputTokens': 89, 'totalTokens': 431}\n",
      "\n",
      "Response ====== \n",
      "\n",
      "私(わたし)はトロントの京都肉牛(きょうとかつぎゅう)で食べたい(たべたい)です。\n",
      "\n",
      "Watashi wa Toronto no Kyōto Katsugyu de tabetai desu.\n",
      "\n",
      "Translation: I want to eat at Kyoto Katsugyu in Toronto.\n",
      "\n",
      "Message Object ====== \n",
      "\n",
      "{'role': 'assistant', 'content': [{'text': '私(わたし)はトロントの京都肉牛(きょうとかつぎゅう)で食べたい(たべたい)です。\\n\\nWatashi wa Toronto no Kyōto Katsugyu de tabetai desu.\\n\\nTranslation: I want to eat at Kyoto Katsugyu in Toronto.'}]}\n"
     ]
    }
   ],
   "source": [
    "# Note: We will update our prompt document to tell is not to give us the direct answer.\n",
    "messages = [\n",
    "  {\"role\": \"user\", \"content\": [{\"text\": \"I want to eat at Kyoto Katsugyu in Toronto\"}]},\n",
    "  {'role': 'assistant', 'content': [{'text': 'クルー:\\n1) 私 (わたし) は トロントの 京都カツ牛 (きょうとかつぎゅう) で 食べたい (たべたい) と言っています。\\n\\n2) 京都カツ牛 は Toronto にある日本食レストランの名前です。\\n\\n3) 食べる (たべる) は「to eat」の意味の動詞の辞書形です。\\n\\nヒント:\\n- 主語は私 (I)\\n- トロントの〜で (in Toronto at〜) \\n- レストラン名が出てきます\\n- 動詞は「たい」形で欲求を表しています'}]},\n",
    "  {\"role\": \"user\", \"content\": [{\"text\": \"can you just tell me the translation?\"}]}\n",
    "]\n",
    "system_prompt_text = load_text_file(\"prompts/jp-teacher.txt\")\n",
    "system_prompt = [{\"text\": system_prompt_text}]\n",
    "model_id = 'anthropic.claude-3-sonnet-20240229-v1:0'\n",
    "\n",
    "# https://boto3.amazonaws.com/v1/documentation/api/latest/reference/services/bedrock-runtime/client/converse.html\n",
    "resp = client.converse(\n",
    "  modelId=model_id,\n",
    "  messages=messages,\n",
    "  system=system_prompt\n",
    ")\n",
    "print(\"Usage ====== \\n\")\n",
    "print(resp['usage'])\n",
    "print(\"\\nResponse ====== \\n\")\n",
    "text = resp['output']['message']['content'][0]['text']  \n",
    "print(text)\n",
    "print(\"\\nMessage Object ====== \\n\")\n",
    "msg = resp['output']['message']\n",
    "print(msg)"
   ]
  },
  {
   "cell_type": "code",
   "execution_count": 29,
   "metadata": {},
   "outputs": [],
   "source": [
    "from chat_history import Chat\n",
    "def converse(session_id, input):\n",
    "  history = Chat.read(session_id)  \n",
    "\n",
    "  system_prompt = load_text_file(\"prompts/jp-teacher.txt\")\n",
    "  model_id = 'amazon.titan-text-express-v1'\n",
    "\n",
    "  prompt = f\"{system_prompt}\\n{history}\\nUser: ${input}\\nBot:\"\n",
    "  resp = client.invoke_model(\n",
    "      modelId=model_id,\n",
    "      contentType='application/json',\n",
    "      accept='application/json',\n",
    "      body=json.dumps({\n",
    "        \"inputText\": prompt\n",
    "      })\n",
    "  )\n",
    "  body = json.loads(resp.get(\"body\").read())\n",
    "  llm_response = body['results'][0]['outputText']\n",
    "\n",
    "  updated_history = f\"{history}\\n{llm_response}\"\n",
    "  Chat.write(session_id,updated_history)\n",
    "\n",
    "  return body"
   ]
  },
  {
   "cell_type": "code",
   "execution_count": 30,
   "metadata": {},
   "outputs": [
    {
     "name": "stdout",
     "output_type": "stream",
     "text": [
      "Chat created.\n",
      "{'inputTextTokenCount': 142, 'results': [{'tokenCount': 33, 'outputText': ' That sounds like a great idea! Kyoto Katsugyu is a popular Japanese restaurant in Toronto that serves delicious grilled meats. Are you excited to try it?', 'completionReason': 'FINISH'}]}\n"
     ]
    }
   ],
   "source": [
    "print(converse(\"food\",\"Let's go eat food at the resturant Kyoto Katsugyu in Toronto.\"))"
   ]
  },
  {
   "cell_type": "code",
   "execution_count": 31,
   "metadata": {},
   "outputs": [
    {
     "name": "stdout",
     "output_type": "stream",
     "text": [
      "Chat updated.\n",
      "{'inputTextTokenCount': 165, 'results': [{'tokenCount': 128, 'outputText': ' Taberu is a Japanese verb that means \"to eat.\" It is conjugated in the following way:\\n\\n- taberu - to eat\\n- tabete - to eat\\n- tabeta - to have eaten\\n- tabeteimasu - to be eating\\n- tabeteimasu - to have been eating\\n- tabeteiru - to be eating\\n- tabeteitai - to want to eat\\n- tabeteitai - to have wanted to eat\\n- tabeteimasen - to not eat\\n- tabeteimasen - to have not eaten', 'completionReason': 'LENGTH'}]}\n"
     ]
    }
   ],
   "source": [
    "print(converse(\"food\",\"How do I conjugate taberu?\"))"
   ]
  },
  {
   "cell_type": "code",
   "execution_count": 32,
   "metadata": {},
   "outputs": [],
   "source": [
    "class JpAgent:\n",
    "  def __init__(self):\n",
    "    self.client = boto3.client('bedrock-runtime')\n",
    "    self.messages = [\n",
    "    \n",
    "    ] # load with initial messages\n",
    "  def chat(self, text):\n",
    "    self.messages.append({\"role\": \"user\", \"content\": [{\"text\": text}]})\n",
    "    system_prompt_text = load_text_file(\"prompts/jp-teacher.txt\")\n",
    "    system_prompt = [{\"text\": system_prompt_text}]\n",
    "    model_id = 'anthropic.claude-3-sonnet-20240229-v1:0'\n",
    "    # https://boto3.amazonaws.com/v1/documentation/api/latest/reference/services/bedrock-runtime/client/converse.html\n",
    "    resp = self.client.converse(\n",
    "        modelId=model_id,\n",
    "        messages=self.messages,\n",
    "        system=system_prompt\n",
    "    )\n",
    "    text = resp['output']['message']['content'][0]['text']      \n",
    "    self.messages.append({\"role\": \"assistant\", \"content\": [{\"text\": text}]})\n",
    "    return text\n",
    "agent = JpAgent()"
   ]
  },
  {
   "cell_type": "code",
   "execution_count": 33,
   "metadata": {},
   "outputs": [
    {
     "name": "stdout",
     "output_type": "stream",
     "text": [
      "Sure, let's translate that sentence into Japanese. Here are the key words with furigana readings and some clues:\n",
      "\n",
      "行(い)く - \"to go\" (verb)\n",
      "食(た)べる - \"to eat\" (verb)\n",
      "食(く)い物(もの) - \"food\"\n",
      "レストラン - \"restaurant\" (borrowed word)\n",
      "京都(きょうと)かつ牛(ぎゅう) - \"Kyoto Katsugyu\" (name of the restaurant)\n",
      "トロント - \"Toronto\" (place name)\n",
      "\n",
      "Clue 1: The sentence starts with a suggestion using a volitional form verb.\n",
      "Clue 2: You'll need a particle to connect \"to go\" and \"to eat food\".\n",
      "Clue 3: Don't forget the particle indicating location after the restaurant name.\n",
      "\n",
      "Give it a try! Let me know if you need any other clues.\n"
     ]
    }
   ],
   "source": [
    "print(agent.chat(\"Let's go eat food at the resturant Kyoto Katsugyu in Toronto.\"))"
   ]
  },
  {
   "cell_type": "code",
   "execution_count": 34,
   "metadata": {},
   "outputs": [
    {
     "name": "stdout",
     "output_type": "stream",
     "text": [
      "Great question! For the verb 食べる (taberu) meaning \"to eat\", here are the different conjugations in the dictionary form:\n",
      "\n",
      "食べる (taberu) - Dictionary form\n",
      "\n",
      "Some common conjugations:\n",
      "食べます (tabemasu) - Polite present tense\n",
      "食べました (tabemashita) - Polite past tense  \n",
      "食べません (tabemasen) - Polite negative \n",
      "食べませんでした (tabemasen deshita) - Polite negative past\n",
      "食べて (tabete) - Te-form (connect to other verbs)\n",
      "食べる (taberu) - Plain present \n",
      "食べた (tabeta) - Plain past\n",
      "食べよう (tabeyou) - Volitional (let's...)\n",
      "\n",
      "Let me know if you need any clarification on how these different forms are used in sentences.\n"
     ]
    }
   ],
   "source": [
    "print(agent.chat(\"How do I conjugate taberu?\"))"
   ]
  },
  {
   "cell_type": "code",
   "execution_count": 37,
   "metadata": {},
   "outputs": [],
   "source": [
    "class JpAgentStream:\n",
    "  def __init__(self):\n",
    "    self.client = boto3.client('bedrock-runtime')\n",
    "    self.messages = [] # load with initial messages\n",
    "  def chat(self, text):\n",
    "    self.messages.append({\"role\": \"user\", \"content\": [{\"text\": text}]})\n",
    "    system_prompt_text = load_text_file(\"prompts/jp-teacher.txt\")\n",
    "    system_prompt = [{\"text\": system_prompt_text}]\n",
    "    model_id = 'anthropic.claude-3-sonnet-20240229-v1:0'\n",
    "    # https://boto3.amazonaws.com/v1/documentation/api/latest/reference/services/bedrock-runtime/client/converse.html\n",
    "    resp = self.client.converse_stream(\n",
    "        modelId=model_id,\n",
    "        messages=self.messages,\n",
    "        system=system_prompt\n",
    "    )\n",
    "    text = self.stream(resp)\n",
    "    self.messages.append({\"role\": \"assistant\", \"content\": [{\"text\": text}]})\n",
    "    return text\n",
    "  def stream(self,resp):  \n",
    "    full_response = \"\"\n",
    "    for event in resp.get('stream'):\n",
    "        if 'messageStart' in event:\n",
    "            print(\"Response started:\", event['messageStart']['role'])\n",
    "        elif 'contentBlockDelta' in event:\n",
    "            chunk = event['contentBlockDelta']['delta'].get('text', '')\n",
    "            full_response += chunk\n",
    "            print(chunk, end='', flush=True)  # Print chunks as they arrive\n",
    "        elif 'messageStop' in event:\n",
    "            print(\"\\n\\nResponse completed. Stop reason:\", event['messageStop']['stopReason'])\n",
    "        elif 'metadata' in event:\n",
    "            print(\"\\nMetadata:\", json.dumps(event['metadata'], indent=2))  \n",
    "    return full_response          \n",
    "stream_agent = JpAgentStream()"
   ]
  },
  {
   "cell_type": "code",
   "execution_count": 38,
   "metadata": {},
   "outputs": [
    {
     "name": "stdout",
     "output_type": "stream",
     "text": [
      "Response started: assistant\n",
      "Here are some clues to help you conjugate the Japanese verb 食べる (たべる, to eat):\n",
      "\n",
      "The verb stem is 食べ (たべ).\n",
      "\n",
      "To make the present affirmative form, you add -る to the stem.\n",
      "食べる (たべる)\n",
      "\n",
      "For the past affirmative, add -た to the stem.\n",
      "食べた (たべた)\n",
      "\n",
      "The negative is formed by adding -ない to the stem.\n",
      "食べない (たべない)\n",
      "\n",
      "The te-form (used for linking verbs) drops -ru and adds -て.\n",
      "食べて (たべて)\n",
      "\n",
      "Let me know if you need any other forms or have additional examples you'd like clues for conjugating.\n",
      "\n",
      "Response completed. Stop reason: end_turn\n",
      "\n",
      "Metadata: {\n",
      "  \"usage\": {\n",
      "    \"inputTokens\": 138,\n",
      "    \"outputTokens\": 168,\n",
      "    \"totalTokens\": 306\n",
      "  },\n",
      "  \"metrics\": {\n",
      "    \"latencyMs\": 3960\n",
      "  }\n",
      "}\n"
     ]
    },
    {
     "data": {
      "text/plain": [
       "\"Here are some clues to help you conjugate the Japanese verb 食べる (たべる, to eat):\\n\\nThe verb stem is 食べ (たべ).\\n\\nTo make the present affirmative form, you add -る to the stem.\\n食べる (たべる)\\n\\nFor the past affirmative, add -た to the stem.\\n食べた (たべた)\\n\\nThe negative is formed by adding -ない to the stem.\\n食べない (たべない)\\n\\nThe te-form (used for linking verbs) drops -ru and adds -て.\\n食べて (たべて)\\n\\nLet me know if you need any other forms or have additional examples you'd like clues for conjugating.\""
      ]
     },
     "execution_count": 38,
     "metadata": {},
     "output_type": "execute_result"
    }
   ],
   "source": [
    "stream_agent.chat(\"How do I conjugate taberu?\")"
   ]
  },
  {
   "cell_type": "code",
   "execution_count": null,
   "metadata": {},
   "outputs": [],
   "source": []
  }
 ],
 "metadata": {
  "kernelspec": {
   "display_name": "Python 3 (ipykernel)",
   "language": "python",
   "name": "python3"
  },
  "language_info": {
   "codemirror_mode": {
    "name": "ipython",
    "version": 3
   },
   "file_extension": ".py",
   "mimetype": "text/x-python",
   "name": "python",
   "nbconvert_exporter": "python",
   "pygments_lexer": "ipython3",
   "version": "3.11.9"
  }
 },
 "nbformat": 4,
 "nbformat_minor": 4
}
