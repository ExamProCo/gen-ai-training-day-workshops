{
 "cells": [
  {
   "cell_type": "code",
   "execution_count": 2,
   "metadata": {},
   "outputs": [
    {
     "name": "stdout",
     "output_type": "stream",
     "text": [
      "Python 3.11.9\n"
     ]
    }
   ],
   "source": [
    "# always check your python version\n",
    "!python --version"
   ]
  },
  {
   "cell_type": "code",
   "execution_count": 3,
   "metadata": {},
   "outputs": [
    {
     "name": "stdout",
     "output_type": "stream",
     "text": [
      "Note: you may need to restart the kernel to use updated packages.\n"
     ]
    }
   ],
   "source": [
    "# AWS SDK for Python, -q flag is for quiet\n",
    "%pip install -q boto3"
   ]
  },
  {
   "cell_type": "code",
   "execution_count": 4,
   "metadata": {},
   "outputs": [
    {
     "name": "stdout",
     "output_type": "stream",
     "text": [
      "Name: boto3\n",
      "Version: 1.34.131\n",
      "Summary: The AWS SDK for Python\n",
      "Home-page: https://github.com/boto/boto3\n",
      "Author: Amazon Web Services\n",
      "Author-email: \n",
      "License: Apache License 2.0\n",
      "Location: /opt/conda/lib/python3.11/site-packages\n",
      "Requires: botocore, jmespath, s3transfer\n",
      "Required-by: amazon-q-developer-jupyterlab-ext, amazon-sagemaker-sql-editor, amazon-sagemaker-sql-execution, amazon_sagemaker_jupyter_ai_q_developer, autogluon.common, autogluon.core, autogluon.multimodal, aws-glue-sessions, langchain-aws, PyAthena, redshift_connector, sagemaker, sagemaker-mlflow, sagemaker-studio-analytics-extension, sagemaker-studio-sparkmagic-lib\n",
      "Note: you may need to restart the kernel to use updated packages.\n"
     ]
    }
   ],
   "source": [
    "# always check your boto3 version\n",
    "%pip show boto3"
   ]
  },
  {
   "cell_type": "code",
   "execution_count": 6,
   "metadata": {},
   "outputs": [],
   "source": [
    "import boto3\n",
    "client = boto3.client(\"bedrock-runtime\")"
   ]
  },
  {
   "cell_type": "code",
   "execution_count": 7,
   "metadata": {},
   "outputs": [],
   "source": [
    "# This is a prompt optimized for Titan.\n",
    "# https://d2eo22ngex1n9g.cloudfront.net/Documentation/User+Guides/Titan/Amazon+Titan+Text+Prompt+Engineering+Guidelines.pdf\n",
    "prompt_titan = \"\"\"\n",
    "User: \n",
    "Sulfuric acid reacts with sodium chloride, and gives {{chemical1}} and {{chemical2}}:\n",
    "Bot:\n",
    "\"\"\"\n",
    "\n",
    "# This is a prompt optimized for Claude \n",
    "# https://docs.anthropic.com/en/docs/build-with-claude/prompt-engineering/overview\n",
    "prompt_claude = \"\"\"\n",
    "Human: \n",
    "Sulfuric acid reacts with sodium chloride, and gives <chemical1>_____</chemical1> and <chemical2>_____</chemical2>:\n",
    "Assistant:\n",
    "\"\"\""
   ]
  },
  {
   "cell_type": "code",
   "execution_count": 8,
   "metadata": {},
   "outputs": [
    {
     "name": "stdout",
     "output_type": "stream",
     "text": [
      "The chemical reaction between sulfuric acid and sodium chloride is a single replacement reaction. Here is the word equation for the reaction:\n",
      "2HCl + Na2SO4 → 2NaCl + H2SO4\n",
      "The chemical reaction between sulfuric acid and sodium chloride is a double replacement reaction. Here is the word equation for the reaction:\n",
      "Na2SO4 + 2HCl → NaCl + H2SO4\n",
      "The chemical reaction between sulfuric acid and sodium chloride is a precipitation reaction. Here is the word equation for the reaction:\n",
      "NaCl + H2SO4 \n"
     ]
    }
   ],
   "source": [
    "# Before you can invoke the model you need to enable model access in Amazon Bedrock\n",
    "\n",
    "import json\n",
    "# https://boto3.amazonaws.com/v1/documentation/api/latest/reference/services/bedrock-runtime/client/invoke_model.html\n",
    "# https://docs.anthropic.com/en/docs/build-with-claude/prompt-engineering/use-xml-tags\n",
    "resp = client.invoke_model(\n",
    "  modelId='amazon.titan-text-express-v1',\n",
    "  body=json.dumps({\n",
    "    \"inputText\": prompt_titan\n",
    "  })\n",
    ")\n",
    "body = json.loads(resp.get(\"body\").read())\n",
    "print(body['results'][0]['outputText'])"
   ]
  },
  {
   "cell_type": "code",
   "execution_count": 9,
   "metadata": {},
   "outputs": [
    {
     "name": "stdout",
     "output_type": "stream",
     "text": [
      "The reaction between sulfuric acid (H2SO4) and sodium chloride (NaCl) produces the following products:\n",
      "\n",
      "<chemical1>Hydrogen chloride (HCl)</chemical1>\n",
      "<chemical2>Sodium sulfate (Na2SO4)</chemical2>\n",
      "\n",
      "The balanced chemical equation for this reaction is:\n",
      "\n",
      "2 NaCl + H2SO4 → 2 HCl + Na2SO4\n",
      "\n",
      "In this reaction, the sulfuric acid (H2SO4) reacts with the sodium chloride (NaCl) to produce hydrogen chloride (HCl) and sodium sulfate (Na2SO4).\n"
     ]
    }
   ],
   "source": [
    "# Notice how Claude 2 use text completion\n",
    "#resp = client.invoke_model(\n",
    "#    modelId='anthropic.claude-v2',\n",
    "#    contentType='application/json',\n",
    "#    accept='application/json',\n",
    "#    body=json.dumps({\n",
    "#        \"prompt\": prompt,\n",
    "#        \"max_tokens_to_sample\": 200,\n",
    "#        \"temperature\": 1.0\n",
    "#    })\n",
    "#)\n",
    "#body = json.loads(resp.get(\"body\").read())\n",
    "#print(body['completion'])\n",
    "\n",
    "\n",
    "# Notice how Claude 3 uses the Message API\n",
    "# https://docs.aws.amazon.com/bedrock/latest/userguide/model-parameters-anthropic-claude-messages.html\n",
    "# https://docs.anthropic.com/en/api/messages\n",
    "resp = client.invoke_model(\n",
    "    modelId='anthropic.claude-3-haiku-20240307-v1:0',\n",
    "    contentType='application/json',\n",
    "    accept='application/json',\n",
    "    body=json.dumps({\n",
    "        \"messages\": [{\"role\": \"user\", \"content\": [{\"type\": \"text\", \"text\": prompt_claude}]}],\n",
    "        \"max_tokens\": 200,\n",
    "        \"temperature\": 1.0,\n",
    "        \"anthropic_version\": \"bedrock-2023-05-31\"\n",
    "    })\n",
    ")\n",
    "body = json.loads(resp.get(\"body\").read())\n",
    "print(body['content'][0]['text'])"
   ]
  },
  {
   "cell_type": "code",
   "execution_count": 10,
   "metadata": {},
   "outputs": [
    {
     "name": "stdout",
     "output_type": "stream",
     "text": [
      "Human: \n",
      "Sulfuric acid reacts with sodium chloride, and gives <chemical1>_____</chemical1> and <chemical2>_____</chemical2>:\n",
      "Assistant:\n"
     ]
    }
   ],
   "source": [
    "# Lets create a helper.py and a text file loader\n",
    "from helper import load_text_file\n",
    "prompt = load_text_file(\"prompts/zero-shot.txt\")\n",
    "print(prompt)"
   ]
  },
  {
   "cell_type": "code",
   "execution_count": 11,
   "metadata": {},
   "outputs": [
    {
     "name": "stdout",
     "output_type": "stream",
     "text": [
      "The reaction between sulfuric acid (H2SO4) and sodium chloride (NaCl) produces the following products:\n",
      "\n",
      "<chemical1>Hydrogen chloride (HCl)</chemical1>\n",
      "<chemical2>Sodium sulfate (Na2SO4)</chemical2>\n",
      "\n",
      "The balanced chemical equation for this reaction is:\n",
      "\n",
      "2 NaCl + H2SO4 → 2 HCl + Na2SO4\n",
      "\n",
      "In this reaction, the sulfuric acid (H2SO4) reacts with the sodium chloride (NaCl) to produce hydrogen chloride (HCl) and sodium sulfate (Na2SO4).\n"
     ]
    }
   ],
   "source": [
    "resp = client.invoke_model(\n",
    "    modelId='anthropic.claude-3-haiku-20240307-v1:0',\n",
    "    contentType='application/json',\n",
    "    accept='application/json',\n",
    "    body=json.dumps({\n",
    "        \"messages\": [{\"role\": \"user\", \"content\": [{\"type\": \"text\", \"text\": prompt}]}],\n",
    "        \"max_tokens\": 200,\n",
    "        \"temperature\": 1.0,\n",
    "        \"anthropic_version\": \"bedrock-2023-05-31\"\n",
    "    })\n",
    ")\n",
    "body = json.loads(resp.get(\"body\").read())\n",
    "print(body['content'][0]['text'])"
   ]
  }
 ],
 "metadata": {
  "kernelspec": {
   "display_name": "Python 3 (ipykernel)",
   "language": "python",
   "name": "python3"
  },
  "language_info": {
   "codemirror_mode": {
    "name": "ipython",
    "version": 3
   },
   "file_extension": ".py",
   "mimetype": "text/x-python",
   "name": "python",
   "nbconvert_exporter": "python",
   "pygments_lexer": "ipython3",
   "version": "3.11.9"
  }
 },
 "nbformat": 4,
 "nbformat_minor": 4
}
