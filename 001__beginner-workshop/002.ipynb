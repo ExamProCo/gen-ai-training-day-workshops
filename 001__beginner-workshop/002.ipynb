{
 "cells": [
  {
   "cell_type": "code",
   "execution_count": null,
   "metadata": {},
   "outputs": [],
   "source": [
    "# always check your python version\n",
    "!python --version"
   ]
  },
  {
   "cell_type": "code",
   "execution_count": null,
   "metadata": {},
   "outputs": [],
   "source": [
    "# AWS SDK for Python, -q flag is for quiet\n",
    "%pip install -q boto3"
   ]
  },
  {
   "cell_type": "code",
   "execution_count": null,
   "metadata": {},
   "outputs": [],
   "source": [
    "# always check your boto3 version\n",
    "%pip show boto3"
   ]
  },
  {
   "cell_type": "code",
   "execution_count": 4,
   "metadata": {},
   "outputs": [],
   "source": [
    "import boto3\n",
    "client = boto3.client(\"bedrock-runtime\")"
   ]
  },
  {
   "cell_type": "code",
   "execution_count": 5,
   "metadata": {},
   "outputs": [],
   "source": [
    "import json\n",
    "from helper import load_text_file\n",
    "\n",
    "model_id = 'amazon.titan-text-express-v1'\n",
    "prompt = load_text_file(\"./prompts/few-shot.txt\")\n",
    "\n",
    "resp = client.invoke_model(\n",
    "  modelId=model_id,\n",
    "  body=json.dumps({\n",
    "    \"inputText\": prompt\n",
    "  })\n",
    ")"
   ]
  },
  {
   "cell_type": "code",
   "execution_count": null,
   "metadata": {},
   "outputs": [],
   "source": [
    "body = json.loads(resp.get(\"body\").read())\n",
    "print(body['results'][0]['outputText'])"
   ]
  },
  {
   "cell_type": "code",
   "execution_count": 7,
   "metadata": {},
   "outputs": [],
   "source": [
    "def tweet_sentiment(tweet):\n",
    "  model_id = 'amazon.titan-text-express-v1'\n",
    "  in_context_learning = load_text_file(\"./prompts/few-shot.txt\")\n",
    "  prompt = f\"{in_context_learning}\\nTweet: \\\"{tweet}\\\" Sentiment:\"\n",
    "\n",
    "  resp = client.invoke_model(\n",
    "    modelId=model_id,\n",
    "    body=json.dumps({\n",
    "      \"inputText\": prompt\n",
    "    })\n",
    "  )\n",
    "  body = json.loads(resp.get(\"body\").read())\n",
    "  return body['results'][0]['outputText']"
   ]
  },
  {
   "cell_type": "code",
   "execution_count": null,
   "metadata": {},
   "outputs": [],
   "source": [
    "print(tweet_sentiment(\"tweet....\"))"
   ]
  }
 ],
 "metadata": {
  "kernelspec": {
   "display_name": "Python 3 (ipykernel)",
   "language": "python",
   "name": "python3"
  },
  "language_info": {
   "codemirror_mode": {
    "name": "ipython",
    "version": 3
   },
   "file_extension": ".py",
   "mimetype": "text/x-python",
   "name": "python",
   "nbconvert_exporter": "python",
   "pygments_lexer": "ipython3",
   "version": "3.11.9"
  }
 },
 "nbformat": 4,
 "nbformat_minor": 4
}
