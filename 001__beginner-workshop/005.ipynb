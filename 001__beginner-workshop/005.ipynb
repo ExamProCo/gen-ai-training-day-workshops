{
 "cells": [
  {
   "cell_type": "code",
   "execution_count": null,
   "metadata": {
    "vscode": {
     "languageId": "plaintext"
    }
   },
   "outputs": [],
   "source": [
    "# there maybe a previously installed version of gradio so lets update it.\n",
    "%pip install --upgrade -q gradio"
   ]
  },
  {
   "cell_type": "code",
   "execution_count": null,
   "metadata": {
    "vscode": {
     "languageId": "plaintext"
    }
   },
   "outputs": [],
   "source": [
    "# It can be tricky to get gradio and pydantic to work together\n",
    "# So this specific version of pydantic is currently working with the\n",
    "# latest gradio, if gradio import is throwing errors play around with versions\n",
    "%pip install -q pydantic==2.1.1"
   ]
  },
  {
   "cell_type": "code",
   "execution_count": 3,
   "metadata": {
    "vscode": {
     "languageId": "plaintext"
    }
   },
   "outputs": [],
   "source": [
    "import gradio as gr\n",
    "import boto3\n",
    "import json\n",
    "from helper import load_text_file\n",
    "\n",
    "# AWS Client setup (Bedrock)\n",
    "client = boto3.client('bedrock-runtime')"
   ]
  },
  {
   "cell_type": "code",
   "execution_count": 4,
   "metadata": {
    "vscode": {
     "languageId": "plaintext"
    }
   },
   "outputs": [],
   "source": [
    "class JpAgent:\n",
    "  def __init__(self):\n",
    "    self.client = boto3.client('bedrock-runtime')\n",
    "    self.messages = [] # load with initial messages\n",
    "  def chat(self, text):\n",
    "    self.messages.append({\"role\": \"user\", \"content\": [{\"text\": text}]})\n",
    "    system_prompt_text = load_text_file(\"prompts/jp-teacher.txt\")\n",
    "    system_prompt = [{\"text\": system_prompt_text}]\n",
    "    model_id = 'anthropic.claude-3-sonnet-20240229-v1:0'\n",
    "    # https://boto3.amazonaws.com/v1/documentation/api/latest/reference/services/bedrock-runtime/client/converse.html\n",
    "    resp = self.client.converse(\n",
    "        modelId=model_id,\n",
    "        messages=self.messages,\n",
    "        system=system_prompt\n",
    "    )\n",
    "    text = resp['output']['message']['content'][0]['text']      \n",
    "    self.messages.append({\"role\": \"assistant\", \"content\": [{\"text\": text}]})\n",
    "    return {\"role\": \"assistant\", \"content\": text }\n",
    "agent = JpAgent()"
   ]
  },
  {
   "cell_type": "code",
   "execution_count": null,
   "metadata": {
    "vscode": {
     "languageId": "plaintext"
    }
   },
   "outputs": [],
   "source": [
    "# Gradio interface\n",
    "def gradio_interface(user_input,history):\n",
    "    resp = agent.chat(user_input) \n",
    "    return resp\n",
    "    \n",
    "# Set up Gradio chat interface\n",
    "interface = gr.ChatInterface(\n",
    "    fn=gradio_interface, \n",
    "    type=\"messages\", \n",
    "    title=\"Japanese Language Learning Agent\"\n",
    ")\n",
    "\n",
    "# Launch the Gradio interface\n",
    "interface.launch(share=True, server_name=\"0.0.0.0\")"
   ]
  }
 ],
 "metadata": {
  "kernelspec": {
   "display_name": "Python 3 (ipykernel)",
   "language": "python",
   "name": "python3"
  },
  "language_info": {
   "codemirror_mode": {
    "name": "ipython",
    "version": 3
   },
   "file_extension": ".py",
   "mimetype": "text/x-python",
   "name": "python",
   "nbconvert_exporter": "python",
   "pygments_lexer": "ipython3",
   "version": "3.11.9"
  }
 },
 "nbformat": 4,
 "nbformat_minor": 4
}
