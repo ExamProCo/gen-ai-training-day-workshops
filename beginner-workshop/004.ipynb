{
 "cells": [
  {
   "cell_type": "code",
   "execution_count": null,
   "metadata": {},
   "outputs": [],
   "source": [
    "# always check your python version\n",
    "!python --version"
   ]
  },
  {
   "cell_type": "code",
   "execution_count": null,
   "metadata": {},
   "outputs": [],
   "source": [
    "# AWS SDK for Python, -q flag is for quiet\n",
    "%pip install -q boto3"
   ]
  },
  {
   "cell_type": "code",
   "execution_count": null,
   "metadata": {},
   "outputs": [],
   "source": [
    "# AWS SDK for Python, -q flag is for quiet\n",
    "%pip install -q boto3"
   ]
  },
  {
   "cell_type": "code",
   "execution_count": null,
   "metadata": {},
   "outputs": [],
   "source": [
    "bedrock_client = boto3.client('bedrock-runtime')"
   ]
  },
  {
   "cell_type": "code",
   "execution_count": null,
   "metadata": {},
   "outputs": [],
   "source": [
    "import random\n",
    "from datetime import datetime, timedelta, timezone\n",
    "from tools import get_date_time, get_weather, get_historical_fact, weather_tools\n",
    "from helper import load_text_file"
   ]
  },
  {
   "cell_type": "code",
   "execution_count": null,
   "metadata": {},
   "outputs": [],
   "source": [
    "# https://gist.github.com/labeveryday/1ce04d4169a638a4e267384100affad5\n",
    "class WeatherAgent:\n",
    "  def __init__(self):\n",
    "    self.client = boto3.client('bedrock-runtime')\n",
    "    self.messages = [] # load with initial messages  \n",
    "    self.model_id = 'anthropic.claude-v2'\n",
    "  def chat(input):\n",
    "    # Observersation\n",
    "    resp = converse(input)\n",
    "    self.messages.append(resp)\n",
    "    # Action\n",
    "    messages = process_action(resp)\n",
    "  def converse(input=''):\n",
    "    system_prompt = load_text_file(\"prompts/weather.txt\")    \n",
    "    messages.append(input)\n",
    "    # https://boto3.amazonaws.com/v1/documentation/api/latest/reference/services/bedrock-runtime/client/converse.html\n",
    "    resp = self.client.converse(\n",
    "      modelId=self.model_id,\n",
    "      messages=self.messages,\n",
    "      system=system_prompt,\n",
    "      inferenceConfig={\n",
    "        \"temperature\": 0.5\n",
    "      },        \n",
    "      toolConfig={\n",
    "        \"tools\": weather_tools,\n",
    "        \"toolChoice\": {\"auto\": {}}\n",
    "      }\n",
    "    )\n",
    "    return resp['output']['message']\n",
    "  def process_action():\n",
    "    for content in ai_response['content']:\n",
    "      if 'text' in content:\n",
    "        return f\"AI: {content['text']}\"\n",
    "      elif 'toolUse' in content:\n",
    "        tool_use = content['toolUse']\n",
    "        tool_name = tool_use['name']\n",
    "        return f\"# Using the {tool_use['name']} tool...\"\n",
    "        \n",
    "        tool_functions = {\n",
    "          'get_date_time': get_date_time,\n",
    "          'get_weather': lambda: get_weather(tool_use['input']['location']),\n",
    "          'get_historical_fact': get_historical_fact\n",
    "        }\n",
    "          \n",
    "        if tool_name in tool_functions:\n",
    "          try:\n",
    "            tool_result = tool_functions[tool_name]()\n",
    "            self.messages.append({\n",
    "              \"role\": \"user\",\n",
    "              \"content\": [{\n",
    "                \"toolResult\": {\n",
    "                  \"toolUseId\": tool_use['toolUseId'],\n",
    "                  \"content\": [{\"json\": tool_result}],\n",
    "                  \"status\": \"success\"\n",
    "                }\n",
    "              }]\n",
    "            })\n",
    "            result = self.converse()\n",
    "            self.messages.append(result)\n",
    "            return f\"AI: {result['content'][0]['text']}\"\n",
    "          except Exception as e:\n",
    "            return f\"Error using {tool_name} tool: {str(e)}\""
   ]
  }
 ],
 "metadata": {
  "language_info": {
   "name": "python"
  }
 },
 "nbformat": 4,
 "nbformat_minor": 2
}
