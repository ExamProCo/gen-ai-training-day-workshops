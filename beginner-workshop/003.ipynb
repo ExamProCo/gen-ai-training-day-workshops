{
 "cells": [
  {
   "cell_type": "code",
   "execution_count": null,
   "metadata": {},
   "outputs": [],
   "source": [
    "# always check your python version\n",
    "!python --version"
   ]
  },
  {
   "cell_type": "code",
   "execution_count": null,
   "metadata": {},
   "outputs": [],
   "source": [
    "# AWS SDK for Python, -q flag is for quiet\n",
    "%pip install -q boto3"
   ]
  },
  {
   "cell_type": "code",
   "execution_count": null,
   "metadata": {},
   "outputs": [],
   "source": [
    "!sudo apt-get install redis-server -y\n",
    "!sudo systemctl start redis-server"
   ]
  },
  {
   "cell_type": "code",
   "execution_count": null,
   "metadata": {},
   "outputs": [],
   "source": [
    "!pip install - q redis"
   ]
  },
  {
   "cell_type": "code",
   "execution_count": null,
   "metadata": {},
   "outputs": [],
   "source": [
    "# always check your boto3 version\n",
    "%pip show boto3"
   ]
  },
  {
   "cell_type": "code",
   "execution_count": null,
   "metadata": {},
   "outputs": [],
   "source": [
    "\n",
    "bedrock_client = boto3.client('bedrock-runtime')"
   ]
  },
  {
   "cell_type": "code",
   "execution_count": null,
   "metadata": {},
   "outputs": [],
   "source": [
    "from helper import load_text_file, store_conversation, get_conversation\n",
    "\n",
    "def converse(session_id, input):\n",
    "  history = get_conversation(session_id)  \n",
    "\n",
    "  prompt = load_text_file(\"prompts/jp-teacher.txt\")\n",
    "  model_id = 'anthropic.claude-v2'\n",
    "  prompt = f\"{history}\\nUser: ${input}\\nAssistant:\"\n",
    "  resp = client.invoke_model(\n",
    "      modelId=model_id,\n",
    "      contentType='application/json',\n",
    "      accept='application/json',\n",
    "      body=json.dumps({\n",
    "        \"prompt\": prompt,\n",
    "      })\n",
    "  )\n",
    "  body = json.loads(resp.get(\"body\").read())\n",
    "  llm_response = body['completion']\n",
    "\n",
    "  updated_history = f\"{history}\\n{llm_response}\"\n",
    "  store_conversation(session_id,updated_history)\n",
    "\n",
    "  return llm_response"
   ]
  },
  {
   "cell_type": "code",
   "execution_count": null,
   "metadata": {},
   "outputs": [],
   "source": [
    "print(converse(\"Let's go eat food at the resturant Kyoto Katsugyu in Toronto.\"))"
   ]
  },
  {
   "cell_type": "code",
   "execution_count": null,
   "metadata": {},
   "outputs": [],
   "source": [
    "print(converse(\"How do I conjugate taberu?\"))"
   ]
  },
  {
   "cell_type": "code",
   "execution_count": null,
   "metadata": {},
   "outputs": [],
   "source": [
    "# https://boto3.amazonaws.com/v1/documentation/api/latest/reference/services/bedrock-runtime/client/converse.html\n",
    "resp = bedrock_client.converse(\n",
    "    modelId=model_id,\n",
    "    messages=messages,\n",
    "    system=system_prompts,\n",
    "    inferenceConfig=inference_config,\n",
    "    additionalModelRequestFields=additional_model_fields\n",
    ")"
   ]
  }
 ],
 "metadata": {
  "language_info": {
   "name": "python"
  }
 },
 "nbformat": 4,
 "nbformat_minor": 2
}
