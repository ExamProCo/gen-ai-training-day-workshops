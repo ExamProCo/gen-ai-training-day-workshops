{
 "cells": [
  {
   "cell_type": "code",
   "execution_count": null,
   "metadata": {},
   "outputs": [],
   "source": [
    "# always check your python version\n",
    "!python --version"
   ]
  },
  {
   "cell_type": "code",
   "execution_count": null,
   "metadata": {},
   "outputs": [],
   "source": [
    "# AWS SDK for Python, -q flag is for quiet\n",
    "%pip install -q boto3"
   ]
  },
  {
   "cell_type": "code",
   "execution_count": null,
   "metadata": {},
   "outputs": [],
   "source": [
    "# always check your boto3 version\n",
    "%pip show boto3"
   ]
  },
  {
   "cell_type": "code",
   "execution_count": null,
   "metadata": {},
   "outputs": [],
   "source": [
    "!sudo apt-get install sqlite3 -y"
   ]
  },
  {
   "cell_type": "code",
   "execution_count": null,
   "metadata": {},
   "outputs": [],
   "source": [
    "!sqlite3 --version"
   ]
  },
  {
   "cell_type": "code",
   "execution_count": null,
   "metadata": {},
   "outputs": [],
   "source": [
    "from chat_history import Chat\n",
    "from helper import load_text_file\n",
    "import json\n",
    "import boto3\n",
    "client = boto3.client('bedrock-runtime')"
   ]
  },
  {
   "cell_type": "code",
   "execution_count": null,
   "metadata": {},
   "outputs": [],
   "source": [
    "def converse(session_id, input):\n",
    "  history = Chat.read(session_id)  \n",
    "\n",
    "  system_prompt = load_text_file(\"prompts/jp-teacher.txt\")\n",
    "  model_id = 'cohere.command-r-v1:0'\n",
    "  prompt = f\"{system_prompt}\\n{history}\\nUser: ${input}\\nAssistant:\"\n",
    "  resp = client.invoke_model(\n",
    "      modelId=model_id,\n",
    "      contentType='application/json',\n",
    "      accept='application/json',\n",
    "      body=json.dumps({\n",
    "        \"message\": prompt,\n",
    "        \"max_tokens\": 200,\n",
    "        \"temperature\": 1.0\n",
    "      })\n",
    "  )\n",
    "  body = json.loads(resp.get(\"body\").read())\n",
    "  llm_response = body['text']\n",
    "\n",
    "  updated_history = f\"{history}\\n{llm_response}\"\n",
    "  Chat.write(session_id,updated_history)\n",
    "\n",
    "  return body"
   ]
  },
  {
   "cell_type": "code",
   "execution_count": null,
   "metadata": {},
   "outputs": [],
   "source": [
    "print(converse(\"food\",\"Let's go eat food at the resturant Kyoto Katsugyu in Toronto.\"))"
   ]
  },
  {
   "cell_type": "code",
   "execution_count": null,
   "metadata": {},
   "outputs": [],
   "source": [
    "print(converse(\"How do I conjugate taberu?\"))"
   ]
  },
  {
   "cell_type": "code",
   "execution_count": null,
   "metadata": {},
   "outputs": [],
   "source": [
    "class JpAgent:\n",
    "  def __init__(self):\n",
    "    self.client = boto3.client('bedrock-runtime')\n",
    "    self.messages = [] # load with initial messages\n",
    "  def chat(self, text):\n",
    "    self.messages.append({\"role\": \"user\", \"content\": [{\"text\": text}]})\n",
    "    system_prompt_text = load_text_file(\"prompts/jp-teacher.txt\")\n",
    "    system_prompt = [{\"text\": system_prompt_text}]\n",
    "    model_id = 'anthropic.claude-3-sonnet-20240229-v1:0'\n",
    "    # https://boto3.amazonaws.com/v1/documentation/api/latest/reference/services/bedrock-runtime/client/converse.html\n",
    "    resp = self.client.converse(\n",
    "        modelId=model_id,\n",
    "        messages=self.messages,\n",
    "        system=system_prompt\n",
    "    )\n",
    "    text = resp['output']['message']['content'][0]['text']      \n",
    "    self.messages.append({\"role\": \"assistant\", \"content\": [{\"text\": text}]})\n",
    "    return resp\n",
    "agent = JpAgent()"
   ]
  },
  {
   "cell_type": "code",
   "execution_count": null,
   "metadata": {},
   "outputs": [],
   "source": [
    "print(agent.chat(\"Let's go eat food at the resturant Kyoto Katsugyu in Toronto.\"))"
   ]
  },
  {
   "cell_type": "code",
   "execution_count": null,
   "metadata": {},
   "outputs": [],
   "source": [
    "print(agent.chat(\"How do I conjugate taberu?\"))"
   ]
  },
  {
   "cell_type": "code",
   "execution_count": null,
   "metadata": {},
   "outputs": [],
   "source": [
    "class JpAgentStream:\n",
    "  def __init__(self):\n",
    "    self.client = boto3.client('bedrock-runtime')\n",
    "    self.messages = [] # load with initial messages\n",
    "  def chat(self, text):\n",
    "    self.messages.append({\"role\": \"user\", \"content\": [{\"text\": text}]})\n",
    "    system_prompt_text = load_text_file(\"prompts/jp-teacher.txt\")\n",
    "    system_prompt = [{\"text\": system_prompt_text}]\n",
    "    model_id = 'anthropic.claude-3-sonnet-20240229-v1:0'\n",
    "    # https://boto3.amazonaws.com/v1/documentation/api/latest/reference/services/bedrock-runtime/client/converse.html\n",
    "    resp = self.client.converse_stream(\n",
    "        modelId=model_id,\n",
    "        messages=self.messages,\n",
    "        system=system_prompt\n",
    "    )\n",
    "    text = self.stream(resp)\n",
    "    self.messages.append({\"role\": \"assistant\", \"content\": [{\"text\": text}]})\n",
    "    return resp\n",
    "  def stream(self,resp):  \n",
    "    full_response = \"\"\n",
    "    for event in resp.get('stream'):\n",
    "        if 'messageStart' in event:\n",
    "            print(\"Response started:\", event['messageStart']['role'])\n",
    "        elif 'contentBlockDelta' in event:\n",
    "            chunk = event['contentBlockDelta']['delta'].get('text', '')\n",
    "            full_response += chunk\n",
    "            print(chunk, end='', flush=True)  # Print chunks as they arrive\n",
    "        elif 'messageStop' in event:\n",
    "            print(\"\\n\\nResponse completed. Stop reason:\", event['messageStop']['stopReason'])\n",
    "        elif 'metadata' in event:\n",
    "            print(\"\\nMetadata:\", json.dumps(event['metadata'], indent=2))  \n",
    "    return full_response          \n",
    "stream_agent = JpAgentStream()"
   ]
  },
  {
   "cell_type": "code",
   "execution_count": null,
   "metadata": {},
   "outputs": [],
   "source": [
    "print(agent.chat(\"How do I conjugate taberu?\"))"
   ]
  }
 ],
 "metadata": {
  "language_info": {
   "name": "python"
  }
 },
 "nbformat": 4,
 "nbformat_minor": 2
}
