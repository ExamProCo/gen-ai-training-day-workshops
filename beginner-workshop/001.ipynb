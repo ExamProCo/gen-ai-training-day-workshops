{
 "cells": [
  {
   "cell_type": "code",
   "execution_count": null,
   "metadata": {},
   "outputs": [],
   "source": [
    "# always check your python version\n",
    "!python --version"
   ]
  },
  {
   "cell_type": "code",
   "execution_count": null,
   "metadata": {},
   "outputs": [],
   "source": [
    "# AWS SDK for Python, -q flag is for quiet\n",
    "%pip install -q boto3"
   ]
  },
  {
   "cell_type": "code",
   "execution_count": null,
   "metadata": {},
   "outputs": [],
   "source": [
    "# always check your boto3 version\n",
    "%pip show boto3"
   ]
  },
  {
   "cell_type": "code",
   "execution_count": null,
   "metadata": {},
   "outputs": [],
   "source": [
    "client = boto3.client(\"bedrock-runtime\")"
   ]
  },
  {
   "cell_type": "code",
   "execution_count": null,
   "metadata": {},
   "outputs": [],
   "source": [
    "prompt = \"\"\"\n",
    "Human: \n",
    "Sulfuric acid reacts with sodium chloride, and gives <chemical1>_____</chemical1> and <chemical2>_____</chemical2>:\n",
    "Assistant:\n",
    "\"\"\""
   ]
  },
  {
   "cell_type": "code",
   "execution_count": null,
   "metadata": {},
   "outputs": [],
   "source": [
    "# https://boto3.amazonaws.com/v1/documentation/api/latest/reference/services/bedrock-runtime/client/invoke_model.html\n",
    "resp = client.invoke_model(\n",
    "  modelId='amazon.titan-text-express-v1',\n",
    "  body=json.dumps({\n",
    "    \"inputText\": prompt\n",
    "  })\n",
    ")\n",
    "body = json.loads(resp.get(\"body\").read())\n",
    "print(body['results'][0]['outputText'])"
   ]
  },
  {
   "cell_type": "code",
   "execution_count": null,
   "metadata": {},
   "outputs": [],
   "source": [
    "# Notice how the body and output structure is different\n",
    "# Notice how XML is much better handled by Claude Haiku 3\n",
    "# https://docs.anthropic.com/en/docs/build-with-claude/prompt-engineering/use-xml-tags\n",
    "resp = client.invoke_model(\n",
    "    modelId='anthropic.claude-v2',\n",
    "    contentType='application/json',\n",
    "    accept='application/json',\n",
    "    body=json.dumps({\n",
    "        \"prompt\": prompt,\n",
    "        \"max_tokens_to_sample\": 200,\n",
    "        \"temperature\": 1.0\n",
    "    })\n",
    ")\n",
    "body = json.loads(resp.get(\"body\").read())\n",
    "print(body['completion'])"
   ]
  },
  {
   "cell_type": "code",
   "execution_count": null,
   "metadata": {},
   "outputs": [],
   "source": [
    "# Lets create a helper.py and a text file loader\n",
    "from helper import load_text_file\n",
    "prompt = load_text_file(\"prompts/zero-shot.txt\")"
   ]
  },
  {
   "cell_type": "code",
   "execution_count": null,
   "metadata": {},
   "outputs": [],
   "source": [
    "resp = client.invoke_model(\n",
    "    modelId='anthropic.claude-v2',\n",
    "    contentType='application/json',\n",
    "    accept='application/json',\n",
    "    body=json.dumps({\n",
    "        \"prompt\": prompt,\n",
    "        \"max_tokens_to_sample\": 200,\n",
    "        \"temperature\": 1.0\n",
    "    })\n",
    ")\n",
    "body = json.loads(resp.get(\"body\").read())\n",
    "print(body['completion'])"
   ]
  }
 ],
 "metadata": {
  "language_info": {
   "name": "python"
  }
 },
 "nbformat": 4,
 "nbformat_minor": 2
}
