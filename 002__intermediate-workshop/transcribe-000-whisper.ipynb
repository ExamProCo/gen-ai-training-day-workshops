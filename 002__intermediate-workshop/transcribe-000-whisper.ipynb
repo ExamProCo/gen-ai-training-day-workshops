{
 "cells": [
  {
   "cell_type": "code",
   "execution_count": null,
   "metadata": {},
   "outputs": [],
   "source": [
    "%pip install openai-whisper"
   ]
  },
  {
   "cell_type": "code",
   "execution_count": null,
   "metadata": {},
   "outputs": [],
   "source": [
    "%pip install -q \"python-ffmpeg<=1.0.16\""
   ]
  },
  {
   "cell_type": "code",
   "execution_count": 2,
   "metadata": {},
   "outputs": [],
   "source": [
    "import whisper"
   ]
  },
  {
   "cell_type": "code",
   "execution_count": null,
   "metadata": {},
   "outputs": [],
   "source": [
    "# Load the model\n",
    "# need at least small to get good translation\n",
    "model = whisper.load_model(\"small\")\n",
    "print('load model')"
   ]
  },
  {
   "cell_type": "code",
   "execution_count": null,
   "metadata": {},
   "outputs": [],
   "source": [
    "# Load audio file\n",
    "audio = whisper.load_audio(\"jp-sample.wav\")\n",
    "audio = whisper.pad_or_trim(audio)\n",
    "print('load audio')"
   ]
  },
  {
   "cell_type": "code",
   "execution_count": null,
   "metadata": {},
   "outputs": [],
   "source": [
    "# Make log-Mel spectrogram\n",
    "mel = whisper.log_mel_spectrogram(audio).to(model.device)\n",
    "print('make spectrogram')"
   ]
  },
  {
   "cell_type": "code",
   "execution_count": null,
   "metadata": {},
   "outputs": [],
   "source": [
    "%%time\n",
    "# Decode the audio with Japanese language specified\n",
    "options = whisper.DecodingOptions(\n",
    "    language=\"ja\",\n",
    "    without_timestamps=True,\n",
    "    beam_size=1,  # Use beam_size=1 for faster decoding\n",
    "    fp16=True     # Use half-precision float16 operations\n",
    ")\n",
    "result = model.decode(mel, options)"
   ]
  },
  {
   "cell_type": "code",
   "execution_count": null,
   "metadata": {},
   "outputs": [],
   "source": [
    "# Print the recognized text\n",
    "print(result.text)"
   ]
  }
 ],
 "metadata": {
  "kernelspec": {
   "display_name": "myenv",
   "language": "python",
   "name": "python3"
  },
  "language_info": {
   "codemirror_mode": {
    "name": "ipython",
    "version": 3
   },
   "file_extension": ".py",
   "mimetype": "text/x-python",
   "name": "python",
   "nbconvert_exporter": "python",
   "pygments_lexer": "ipython3",
   "version": "3.12.5"
  }
 },
 "nbformat": 4,
 "nbformat_minor": 2
}
