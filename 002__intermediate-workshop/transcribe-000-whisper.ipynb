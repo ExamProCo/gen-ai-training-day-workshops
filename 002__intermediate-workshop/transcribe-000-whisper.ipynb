{
 "cells": [
  {
   "cell_type": "code",
   "execution_count": null,
   "metadata": {},
   "outputs": [
    {
     "name": "stdout",
     "output_type": "stream",
     "text": [
      "Collecting openai-whisper\n",
      "  Downloading openai-whisper-20240930.tar.gz (800 kB)\n",
      "\u001b[2K     \u001b[90m━━━━━━━━━━━━━━━━━━━━━━━━━━━━━━━━━━━━━━━\u001b[0m \u001b[32m800.5/800.5 kB\u001b[0m \u001b[31m1.1 MB/s\u001b[0m eta \u001b[36m0:00:00\u001b[0ma \u001b[36m0:00:01\u001b[0m\n",
      "\u001b[?25h  Installing build dependencies ... \u001b[?25ldone\n",
      "\u001b[?25h  Getting requirements to build wheel ... \u001b[?25ldone\n",
      "\u001b[?25h  Preparing metadata (pyproject.toml) ... \u001b[?25ldone\n",
      "\u001b[?25hCollecting numba (from openai-whisper)\n",
      "  Downloading numba-0.60.0-cp312-cp312-manylinux2014_x86_64.manylinux_2_17_x86_64.whl.metadata (2.7 kB)\n",
      "Requirement already satisfied: numpy in /home/andrew/miniconda3/envs/firstEnv/lib/python3.12/site-packages (from openai-whisper) (1.26.4)\n",
      "Requirement already satisfied: torch in /home/andrew/miniconda3/envs/firstEnv/lib/python3.12/site-packages (from openai-whisper) (2.4.1)\n",
      "Requirement already satisfied: tqdm in /home/andrew/miniconda3/envs/firstEnv/lib/python3.12/site-packages (from openai-whisper) (4.66.5)\n",
      "Collecting more-itertools (from openai-whisper)\n",
      "  Downloading more_itertools-10.5.0-py3-none-any.whl.metadata (36 kB)\n",
      "Requirement already satisfied: tiktoken in /home/andrew/miniconda3/envs/firstEnv/lib/python3.12/site-packages (from openai-whisper) (0.7.0)\n",
      "Requirement already satisfied: triton>=2.0.0 in /home/andrew/miniconda3/envs/firstEnv/lib/python3.12/site-packages (from openai-whisper) (3.0.0)\n",
      "Requirement already satisfied: filelock in /home/andrew/miniconda3/envs/firstEnv/lib/python3.12/site-packages (from triton>=2.0.0->openai-whisper) (3.16.1)\n",
      "Collecting llvmlite<0.44,>=0.43.0dev0 (from numba->openai-whisper)\n",
      "  Downloading llvmlite-0.43.0-cp312-cp312-manylinux_2_17_x86_64.manylinux2014_x86_64.whl.metadata (4.8 kB)\n",
      "Requirement already satisfied: regex>=2022.1.18 in /home/andrew/miniconda3/envs/firstEnv/lib/python3.12/site-packages (from tiktoken->openai-whisper) (2024.9.11)\n",
      "Requirement already satisfied: requests>=2.26.0 in /home/andrew/miniconda3/envs/firstEnv/lib/python3.12/site-packages (from tiktoken->openai-whisper) (2.32.3)\n",
      "Requirement already satisfied: typing-extensions>=4.8.0 in /home/andrew/miniconda3/envs/firstEnv/lib/python3.12/site-packages (from torch->openai-whisper) (4.12.2)\n",
      "Requirement already satisfied: sympy in /home/andrew/miniconda3/envs/firstEnv/lib/python3.12/site-packages (from torch->openai-whisper) (1.13.3)\n",
      "Requirement already satisfied: networkx in /home/andrew/miniconda3/envs/firstEnv/lib/python3.12/site-packages (from torch->openai-whisper) (3.3)\n",
      "Requirement already satisfied: jinja2 in /home/andrew/miniconda3/envs/firstEnv/lib/python3.12/site-packages (from torch->openai-whisper) (3.1.4)\n",
      "Requirement already satisfied: fsspec in /home/andrew/miniconda3/envs/firstEnv/lib/python3.12/site-packages (from torch->openai-whisper) (2024.9.0)\n",
      "Requirement already satisfied: setuptools in /home/andrew/miniconda3/envs/firstEnv/lib/python3.12/site-packages (from torch->openai-whisper) (74.1.2)\n",
      "Requirement already satisfied: nvidia-cuda-nvrtc-cu12==12.1.105 in /home/andrew/miniconda3/envs/firstEnv/lib/python3.12/site-packages (from torch->openai-whisper) (12.1.105)\n",
      "Requirement already satisfied: nvidia-cuda-runtime-cu12==12.1.105 in /home/andrew/miniconda3/envs/firstEnv/lib/python3.12/site-packages (from torch->openai-whisper) (12.1.105)\n",
      "Requirement already satisfied: nvidia-cuda-cupti-cu12==12.1.105 in /home/andrew/miniconda3/envs/firstEnv/lib/python3.12/site-packages (from torch->openai-whisper) (12.1.105)\n",
      "Requirement already satisfied: nvidia-cudnn-cu12==9.1.0.70 in /home/andrew/miniconda3/envs/firstEnv/lib/python3.12/site-packages (from torch->openai-whisper) (9.1.0.70)\n",
      "Requirement already satisfied: nvidia-cublas-cu12==12.1.3.1 in /home/andrew/miniconda3/envs/firstEnv/lib/python3.12/site-packages (from torch->openai-whisper) (12.1.3.1)\n",
      "Requirement already satisfied: nvidia-cufft-cu12==11.0.2.54 in /home/andrew/miniconda3/envs/firstEnv/lib/python3.12/site-packages (from torch->openai-whisper) (11.0.2.54)\n",
      "Requirement already satisfied: nvidia-curand-cu12==10.3.2.106 in /home/andrew/miniconda3/envs/firstEnv/lib/python3.12/site-packages (from torch->openai-whisper) (10.3.2.106)\n",
      "Requirement already satisfied: nvidia-cusolver-cu12==11.4.5.107 in /home/andrew/miniconda3/envs/firstEnv/lib/python3.12/site-packages (from torch->openai-whisper) (11.4.5.107)\n",
      "Requirement already satisfied: nvidia-cusparse-cu12==12.1.0.106 in /home/andrew/miniconda3/envs/firstEnv/lib/python3.12/site-packages (from torch->openai-whisper) (12.1.0.106)\n",
      "Requirement already satisfied: nvidia-nccl-cu12==2.20.5 in /home/andrew/miniconda3/envs/firstEnv/lib/python3.12/site-packages (from torch->openai-whisper) (2.20.5)\n",
      "Requirement already satisfied: nvidia-nvtx-cu12==12.1.105 in /home/andrew/miniconda3/envs/firstEnv/lib/python3.12/site-packages (from torch->openai-whisper) (12.1.105)\n",
      "Requirement already satisfied: nvidia-nvjitlink-cu12 in /home/andrew/miniconda3/envs/firstEnv/lib/python3.12/site-packages (from nvidia-cusolver-cu12==11.4.5.107->torch->openai-whisper) (12.6.68)\n",
      "Requirement already satisfied: charset-normalizer<4,>=2 in /home/andrew/miniconda3/envs/firstEnv/lib/python3.12/site-packages (from requests>=2.26.0->tiktoken->openai-whisper) (3.3.2)\n",
      "Requirement already satisfied: idna<4,>=2.5 in /home/andrew/miniconda3/envs/firstEnv/lib/python3.12/site-packages (from requests>=2.26.0->tiktoken->openai-whisper) (3.10)\n",
      "Requirement already satisfied: urllib3<3,>=1.21.1 in /home/andrew/miniconda3/envs/firstEnv/lib/python3.12/site-packages (from requests>=2.26.0->tiktoken->openai-whisper) (2.2.3)\n",
      "Requirement already satisfied: certifi>=2017.4.17 in /home/andrew/miniconda3/envs/firstEnv/lib/python3.12/site-packages (from requests>=2.26.0->tiktoken->openai-whisper) (2024.8.30)\n",
      "Requirement already satisfied: MarkupSafe>=2.0 in /home/andrew/miniconda3/envs/firstEnv/lib/python3.12/site-packages (from jinja2->torch->openai-whisper) (2.1.5)\n",
      "Requirement already satisfied: mpmath<1.4,>=1.1.0 in /home/andrew/miniconda3/envs/firstEnv/lib/python3.12/site-packages (from sympy->torch->openai-whisper) (1.3.0)\n",
      "Downloading more_itertools-10.5.0-py3-none-any.whl (60 kB)\n",
      "Downloading numba-0.60.0-cp312-cp312-manylinux2014_x86_64.manylinux_2_17_x86_64.whl (3.8 MB)\n",
      "\u001b[2K   \u001b[90m━━━━━━━━━━━━━━━━━━━━━━━━━━━━━━━━━━━━━━━━\u001b[0m \u001b[32m3.8/3.8 MB\u001b[0m \u001b[31m1.7 MB/s\u001b[0m eta \u001b[36m0:00:00\u001b[0m00:01\u001b[0m00:01\u001b[0m\n",
      "\u001b[?25hDownloading llvmlite-0.43.0-cp312-cp312-manylinux_2_17_x86_64.manylinux2014_x86_64.whl (43.9 MB)\n",
      "\u001b[2K   \u001b[90m━━━━━━━━━━━━━━━━━━━━━━━━━━━━━━━━━━━━━━━━\u001b[0m \u001b[32m43.9/43.9 MB\u001b[0m \u001b[31m4.7 MB/s\u001b[0m eta \u001b[36m0:00:00\u001b[0m00:01\u001b[0m00:01\u001b[0m\n",
      "\u001b[?25hBuilding wheels for collected packages: openai-whisper\n",
      "  Building wheel for openai-whisper (pyproject.toml) ... \u001b[?25ldone\n",
      "\u001b[?25h  Created wheel for openai-whisper: filename=openai_whisper-20240930-py3-none-any.whl size=803321 sha256=d83adab4364b7a559513b2bd2be8e679e8036a83a395affb4ee7a931a892be20\n",
      "  Stored in directory: /home/andrew/.cache/pip/wheels/7c/f5/6f/92094c35416f9397abb86b23cfe72fb255a3013012f983136d\n",
      "Successfully built openai-whisper\n",
      "Installing collected packages: more-itertools, llvmlite, numba, openai-whisper\n",
      "Successfully installed llvmlite-0.43.0 more-itertools-10.5.0 numba-0.60.0 openai-whisper-20240930\n",
      "Note: you may need to restart the kernel to use updated packages.\n"
     ]
    }
   ],
   "source": [
    "%pip install openai-whisper"
   ]
  },
  {
   "cell_type": "code",
   "execution_count": null,
   "metadata": {},
   "outputs": [],
   "source": [
    "%pip install -q \"python-ffmpeg<=1.0.16\""
   ]
  },
  {
   "cell_type": "code",
   "execution_count": 2,
   "metadata": {},
   "outputs": [],
   "source": [
    "import whisper"
   ]
  },
  {
   "cell_type": "code",
   "execution_count": 3,
   "metadata": {},
   "outputs": [
    {
     "name": "stderr",
     "output_type": "stream",
     "text": [
      "100%|███████████████████████████████████████| 461M/461M [00:40<00:00, 11.9MiB/s]\n",
      "/home/andrew/miniconda3/envs/firstEnv/lib/python3.12/site-packages/whisper/__init__.py:150: FutureWarning: You are using `torch.load` with `weights_only=False` (the current default value), which uses the default pickle module implicitly. It is possible to construct malicious pickle data which will execute arbitrary code during unpickling (See https://github.com/pytorch/pytorch/blob/main/SECURITY.md#untrusted-models for more details). In a future release, the default value for `weights_only` will be flipped to `True`. This limits the functions that could be executed during unpickling. Arbitrary objects will no longer be allowed to be loaded via this mode unless they are explicitly allowlisted by the user via `torch.serialization.add_safe_globals`. We recommend you start setting `weights_only=True` for any use case where you don't have full control of the loaded file. Please open an issue on GitHub for any issues related to this experimental feature.\n",
      "  checkpoint = torch.load(fp, map_location=device)\n"
     ]
    },
    {
     "name": "stdout",
     "output_type": "stream",
     "text": [
      "load model\n"
     ]
    }
   ],
   "source": [
    "# Load the model\n",
    "# need at least small to get good translation\n",
    "model = whisper.load_model(\"small\")\n",
    "print('load model')"
   ]
  },
  {
   "cell_type": "code",
   "execution_count": null,
   "metadata": {},
   "outputs": [
    {
     "name": "stdout",
     "output_type": "stream",
     "text": [
      "load audio\n"
     ]
    }
   ],
   "source": [
    "# Load audio file\n",
    "audio = whisper.load_audio(\"jp-sample.wav\")\n",
    "audio = whisper.pad_or_trim(audio)\n",
    "print('load audio')"
   ]
  },
  {
   "cell_type": "code",
   "execution_count": 5,
   "metadata": {},
   "outputs": [
    {
     "name": "stdout",
     "output_type": "stream",
     "text": [
      "make spectrogram\n"
     ]
    }
   ],
   "source": [
    "# Make log-Mel spectrogram\n",
    "mel = whisper.log_mel_spectrogram(audio).to(model.device)\n",
    "print('make spectrogram')"
   ]
  },
  {
   "cell_type": "code",
   "execution_count": null,
   "metadata": {},
   "outputs": [],
   "source": [
    "%%time\n",
    "# Decode the audio with Japanese language specified\n",
    "options = whisper.DecodingOptions(\n",
    "    language=\"ja\",\n",
    "    without_timestamps=True,\n",
    "    beam_size=1,  # Use beam_size=1 for faster decoding\n",
    "    fp16=True     # Use half-precision float16 operations\n",
    ")\n",
    "result = model.decode(mel, options)"
   ]
  },
  {
   "cell_type": "code",
   "execution_count": 7,
   "metadata": {},
   "outputs": [
    {
     "name": "stdout",
     "output_type": "stream",
     "text": [
      "おりがと\n"
     ]
    }
   ],
   "source": [
    "# Print the recognized text\n",
    "print(result.text)"
   ]
  }
 ],
 "metadata": {
  "kernelspec": {
   "display_name": "myenv",
   "language": "python",
   "name": "python3"
  },
  "language_info": {
   "codemirror_mode": {
    "name": "ipython",
    "version": 3
   },
   "file_extension": ".py",
   "mimetype": "text/x-python",
   "name": "python",
   "nbconvert_exporter": "python",
   "pygments_lexer": "ipython3",
   "version": "3.12.5"
  }
 },
 "nbformat": 4,
 "nbformat_minor": 2
}
