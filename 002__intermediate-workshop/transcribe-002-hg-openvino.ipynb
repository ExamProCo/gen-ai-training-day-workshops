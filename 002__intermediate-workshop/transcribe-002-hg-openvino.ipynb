{
 "cells": [
  {
   "cell_type": "code",
   "execution_count": null,
   "metadata": {},
   "outputs": [],
   "source": [
    "!python --version"
   ]
  },
  {
   "cell_type": "code",
   "execution_count": null,
   "metadata": {},
   "outputs": [],
   "source": [
    "%pip install -q \"openvino>=2024.1.0\" \"nncf>=2.10.0\""
   ]
  },
  {
   "cell_type": "code",
   "execution_count": null,
   "metadata": {},
   "outputs": [],
   "source": [
    "%pip install -q \"python-ffmpeg<=1.0.16\" moviepy \"onnx!=1.16.2\" "
   ]
  },
  {
   "cell_type": "code",
   "execution_count": null,
   "metadata": {},
   "outputs": [],
   "source": [
    "%pip install -q \"torch>=2.1\" --extra-index-url https://download.pytorch.org/whl/cpu"
   ]
  },
  {
   "cell_type": "code",
   "execution_count": null,
   "metadata": {},
   "outputs": [],
   "source": [
    "%pip install tf-keras"
   ]
  },
  {
   "cell_type": "code",
   "execution_count": null,
   "metadata": {},
   "outputs": [],
   "source": [
    "%pip install -q \"git+https://github.com/huggingface/optimum-intel.git\""
   ]
  },
  {
   "cell_type": "code",
   "execution_count": null,
   "metadata": {},
   "outputs": [],
   "source": [
    "import torch\n",
    "print(torch.__version__)"
   ]
  },
  {
   "cell_type": "code",
   "execution_count": null,
   "metadata": {},
   "outputs": [],
   "source": [
    "import numpy as np\n",
    "print(np.version.version)"
   ]
  },
  {
   "cell_type": "code",
   "execution_count": 8,
   "metadata": {},
   "outputs": [],
   "source": [
    "model_id = \"openai/whisper-small\""
   ]
  },
  {
   "cell_type": "code",
   "execution_count": 9,
   "metadata": {},
   "outputs": [],
   "source": [
    "from pathlib import Path\n",
    "\n",
    "model_dir = model_id.split(\"/\")[-1]\n",
    "\n",
    "if not Path(model_dir).exists():\n",
    "    !optimum-cli export openvino -m {model_id} {model_dir} --weight-format fp16"
   ]
  },
  {
   "cell_type": "code",
   "execution_count": 10,
   "metadata": {},
   "outputs": [],
   "source": [
    "import openvino as ov\n",
    "core = ov.Core()\n",
    "supported_devices = core.available_devices + [\"AUTO\"]\n",
    "print(supported_devices)"
   ]
  },
  {
   "cell_type": "code",
   "execution_count": null,
   "metadata": {},
   "outputs": [],
   "source": [
    "from optimum.intel.openvino import OVModelForSpeechSeq2Seq\n",
    "from transformers import AutoProcessor, pipeline\n",
    "\n",
    "device = 'CPU'\n",
    "\n",
    "ov_model = OVModelForSpeechSeq2Seq.from_pretrained(model_dir, device=device)\n",
    "processor = AutoProcessor.from_pretrained(model_dir)\n",
    "\n",
    "# GPU is available in the environment, but no `device` argument is passed to the `Pipeline` object. Model will be on CPU.\n",
    "# > It looks like it at this point, until METAL support is added, no GPU for ARM Macintoshes.\n",
    "# https://github.com/black-forest-labs/flux/issues/48#issuecomment-2273668173\n",
    "\n",
    "pipe = pipeline(\n",
    "    \"automatic-speech-recognition\",\n",
    "    model=ov_model,\n",
    "    chunk_length_s=30,\n",
    "    tokenizer=processor.tokenizer,\n",
    "    feature_extractor=processor.feature_extractor,\n",
    ")"
   ]
  },
  {
   "cell_type": "code",
   "execution_count": null,
   "metadata": {},
   "outputs": [],
   "source": [
    "import os\n",
    "print(os.path.exists(\"jp-sample.wav\"))"
   ]
  },
  {
   "cell_type": "code",
   "execution_count": null,
   "metadata": {},
   "outputs": [],
   "source": [
    "import numpy as np\n",
    "from scipy.io import wavfile\n",
    "# we can't use the \"wave\" standard library because it can't read 32f files.\n",
    "# in Adobe Audition you can't export lower than 32f so we'll have to covert.\n",
    "# We'll use wavefile scipy.io wavfile\n",
    "\n",
    "audio_path = \"./jp-sample.wav\"\n",
    "\n",
    "# Read the 32-bit float WAV file\n",
    "sampling_rate, raw = wavfile.read('./jp-sample.wav')"
   ]
  },
  {
   "cell_type": "code",
   "execution_count": null,
   "metadata": {},
   "outputs": [],
   "source": [
    "%%time\n",
    "task = 'transcribe' # transcribe / translate\n",
    "transcription = pipe(\n",
    "    {\"raw\": raw, \"sampling_rate\": sampling_rate }, \n",
    "    generate_kwargs={\"task\": task}, \n",
    "    return_timestamps=True\n",
    ")[\"chunks\"]"
   ]
  },
  {
   "cell_type": "code",
   "execution_count": null,
   "metadata": {},
   "outputs": [],
   "source": [
    "print(transcription)"
   ]
  }
 ],
 "metadata": {
  "kernelspec": {
   "display_name": "myenv",
   "language": "python",
   "name": "python3"
  },
  "language_info": {
   "codemirror_mode": {
    "name": "ipython",
    "version": 3
   },
   "file_extension": ".py",
   "mimetype": "text/x-python",
   "name": "python",
   "nbconvert_exporter": "python",
   "pygments_lexer": "ipython3",
   "version": "3.10.14"
  }
 },
 "nbformat": 4,
 "nbformat_minor": 2
}
